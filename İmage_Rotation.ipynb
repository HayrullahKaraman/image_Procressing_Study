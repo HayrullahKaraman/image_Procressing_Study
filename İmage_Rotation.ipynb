{
 "cells": [
  {
   "cell_type": "code",
   "execution_count": 7,
   "id": "649b6e26",
   "metadata": {},
   "outputs": [],
   "source": [
    "import numpy  as np\n",
    "import matplotlib.pyplot as plt\n",
    "import cv2"
   ]
  },
  {
   "cell_type": "code",
   "execution_count": 31,
   "id": "78d672a3",
   "metadata": {},
   "outputs": [],
   "source": [
    "img=cv2.imread('D:\\Masal2.jpeg',0)\n"
   ]
  },
  {
   "cell_type": "code",
   "execution_count": 32,
   "id": "cab9deac",
   "metadata": {},
   "outputs": [],
   "source": [
    "rows,cols = img.shape\n",
    "center = (rows/2.3, cols/1.7)\n",
    "angle45 = 45\n",
    "angle180 = 180\n",
    "angle270 = 270\n",
    "scale = 1.0"
   ]
  },
  {
   "cell_type": "code",
   "execution_count": 33,
   "id": "e807e5dc",
   "metadata": {},
   "outputs": [],
   "source": [
    "img2 = cv2.getRotationMatrix2D(center,angle180, scale)\n",
    "hdf = cv2.warpAffine(img, img2, dsize= (rows, cols))"
   ]
  },
  {
   "cell_type": "code",
   "execution_count": 34,
   "id": "99d14485",
   "metadata": {},
   "outputs": [],
   "source": [
    "#plt.subplot(121),plt.imshow(img),plt.title('Original')\n",
    "#plt.xticks([]), plt.yticks([])\n",
    "#plt.subplot(122),plt.imshow(hdf),plt.title('Geomatrik Transformasyon')\n",
    "#plt.xticks([]), plt.yticks([])\n",
    "#plt.show()"
   ]
  },
  {
   "cell_type": "code",
   "execution_count": 35,
   "id": "12622a3c",
   "metadata": {},
   "outputs": [],
   "source": [
    "inp = cv2.resize(img, (350, 250))   \n",
    "out = cv2.resize(hdf, (450, 250)) \n",
    "cv2.imshow('orjinal', inp)\n",
    "cv2.imshow('output',out)\n",
    "\n",
    "cv2.waitKey(0)\n",
    "cv2.destroyAllWindows()"
   ]
  },
  {
   "cell_type": "code",
   "execution_count": null,
   "id": "b16f689a",
   "metadata": {},
   "outputs": [],
   "source": []
  }
 ],
 "metadata": {
  "kernelspec": {
   "display_name": "Python 3 (ipykernel)",
   "language": "python",
   "name": "python3"
  },
  "language_info": {
   "codemirror_mode": {
    "name": "ipython",
    "version": 3
   },
   "file_extension": ".py",
   "mimetype": "text/x-python",
   "name": "python",
   "nbconvert_exporter": "python",
   "pygments_lexer": "ipython3",
   "version": "3.9.7"
  }
 },
 "nbformat": 4,
 "nbformat_minor": 5
}
