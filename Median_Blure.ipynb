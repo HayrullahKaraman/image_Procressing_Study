{
 "cells": [
  {
   "cell_type": "code",
   "execution_count": 75,
   "id": "48886c59",
   "metadata": {},
   "outputs": [],
   "source": [
    "import numpy as np\n",
    "import cv2\n",
    "from matplotlib import pyplot as plt"
   ]
  },
  {
   "cell_type": "code",
   "execution_count": 76,
   "id": "2f103139",
   "metadata": {},
   "outputs": [],
   "source": [
    "def noisy(noise_typ,image):\n",
    "        noise_typ == \"gauss\"\n",
    "        row,col,ch= image.shape\n",
    "        mean = 0\n",
    "        var = 1\n",
    "        sigma = var**0.5\n",
    "        gauss = np.random.normal(mean,sigma,(row,col,ch))\n",
    "        gauss = gauss.reshape(row,col,ch)\n",
    "        noisy = image + gauss\n",
    "        return noisy"
   ]
  },
  {
   "cell_type": "code",
   "execution_count": 84,
   "id": "fab7b049",
   "metadata": {},
   "outputs": [],
   "source": [
    "img=cv2.imread('D:\\hayrullahbw.jpeg',1)"
   ]
  },
  {
   "cell_type": "code",
   "execution_count": 85,
   "id": "3b7de42c",
   "metadata": {},
   "outputs": [],
   "source": [
    "dst1 = noisy(\"gauss\",img)#gauss gürüldü ekleme"
   ]
  },
  {
   "cell_type": "code",
   "execution_count": 86,
   "id": "0b678d95",
   "metadata": {},
   "outputs": [],
   "source": [
    "b,g,r = cv2.split(dst1)           # get b,g,r\n",
    "rgb_img1 = cv2.merge([r,g,b])     # switch it to rgb\n",
    "rgb_img1 = np.uint8(rgb_img1)"
   ]
  },
  {
   "cell_type": "code",
   "execution_count": 87,
   "id": "86e17444",
   "metadata": {},
   "outputs": [],
   "source": [
    "# Median Blure\n",
    "denois1 = cv2.medianBlur(rgb_img1,17)\n",
    "\n",
    "#Blure\n",
    "  \n",
    "image2 = img=cv2.imread('D:\\hayrullah.jpeg',0)\n",
    "    \n",
    "# ksize\n",
    "ksize = (10, 10)\n",
    "blrout = cv2.blur(image2, ksize) \n"
   ]
  },
  {
   "cell_type": "code",
   "execution_count": 88,
   "id": "1d102fde",
   "metadata": {},
   "outputs": [],
   "source": [
    "inp = cv2.resize(img, (250, 250))   \n",
    "outg = cv2.resize(rgb_img1, (250, 250)) \n",
    "outm = cv2.resize(denois1, (250, 250))  \n",
    "outbl = cv2.resize(blrout, (250, 250))  \n",
    "cv2.imshow('img', inp)\n",
    "cv2.imshow('gausen',outg)\n",
    "cv2.imshow('median_blure',outm)\n",
    "cv2.imshow('Blure_Output',outbl)\n",
    "cv2.waitKey(0)\n",
    "cv2.destroyAllWindows()"
   ]
  },
  {
   "cell_type": "code",
   "execution_count": null,
   "id": "c4575390",
   "metadata": {},
   "outputs": [],
   "source": []
  },
  {
   "cell_type": "code",
   "execution_count": null,
   "id": "085c0507",
   "metadata": {},
   "outputs": [],
   "source": []
  }
 ],
 "metadata": {
  "kernelspec": {
   "display_name": "Python 3 (ipykernel)",
   "language": "python",
   "name": "python3"
  },
  "language_info": {
   "codemirror_mode": {
    "name": "ipython",
    "version": 3
   },
   "file_extension": ".py",
   "mimetype": "text/x-python",
   "name": "python",
   "nbconvert_exporter": "python",
   "pygments_lexer": "ipython3",
   "version": "3.9.7"
  }
 },
 "nbformat": 4,
 "nbformat_minor": 5
}
